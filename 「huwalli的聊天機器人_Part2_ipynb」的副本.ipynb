{
  "nbformat": 4,
  "nbformat_minor": 0,
  "metadata": {
    "colab": {
      "provenance": [],
      "include_colab_link": true
    },
    "kernelspec": {
      "name": "python3",
      "display_name": "Python 3"
    },
    "language_info": {
      "name": "python"
    }
  },
  "cells": [
    {
      "cell_type": "markdown",
      "metadata": {
        "id": "view-in-github",
        "colab_type": "text"
      },
      "source": [
        "<a href=\"https://colab.research.google.com/github/roly3618/113-2-coding-coursework-/blob/main/%E3%80%8Chuwalli%E7%9A%84%E8%81%8A%E5%A4%A9%E6%A9%9F%E5%99%A8%E4%BA%BA_Part2_ipynb%E3%80%8D%E7%9A%84%E5%89%AF%E6%9C%AC.ipynb\" target=\"_parent\"><img src=\"https://colab.research.google.com/assets/colab-badge.svg\" alt=\"Open In Colab\"/></a>"
      ]
    },
    {
      "cell_type": "markdown",
      "source": [
        "#這個是學習資源連結\n",
        "取得API key在這邊：https://ai.google.dev/\n",
        "\n",
        "怎麼用Gemini：https://ai.google.dev/gemini-api/docs/quickstart?lang=python"
      ],
      "metadata": {
        "id": "FzAHtzePPM_a"
      }
    },
    {
      "cell_type": "code",
      "execution_count": null,
      "metadata": {
        "id": "tioEPqr0O13e"
      },
      "outputs": [],
      "source": [
        "#保護並存放隱私資料（例如 API key或密碼）\n",
        "from google.colab import userdata\n",
        "apikey = userdata.get('test')"
      ]
    },
    {
      "cell_type": "markdown",
      "source": [
        "#先來做測試\n",
        "我們叫Gemini寫一個故事給我們"
      ],
      "metadata": {
        "id": "8RQmoaCIR8q5"
      }
    },
    {
      "cell_type": "code",
      "source": [
        "#讓我們來測試gemini!先要求寫一個故事給我\n",
        "import google.generativeai as genai\n",
        "genai.configure(api_key = apikey)\n",
        "model = genai.GenerativeModel(\"gemini-1.5-flash\")\n",
        "#底下是給予寫故事指令的程式碼\n",
        "response = model.generate_content(\"Write a story about a magic backpack.\")\n",
        "print(response.text)"
      ],
      "metadata": {
        "colab": {
          "base_uri": "https://localhost:8080/",
          "height": 419
        },
        "id": "CbU4hRQO5NYJ",
        "outputId": "6ff9486a-02ca-46ae-91d5-712749dc5084"
      },
      "execution_count": null,
      "outputs": [
        {
          "output_type": "stream",
          "name": "stdout",
          "text": [
            "Elara clutched the worn leather straps of her backpack, its brass buckles glinting in the afternoon sun. It wasn't just any backpack; it was her grandmother's, a legacy passed down through generations, whispered to hold a touch of magic.  Elara, a practical, skeptical teenager, hadn't believed the stories – until yesterday.\n",
            "\n",
            "Yesterday, she'd needed a specific, out-of-print textbook for her history assignment.  Panicked, she’d tossed a crumpled piece of paper with the title into the backpack’s cavernous main compartment.  This morning, the book sat nestled amongst her crumpled lunch wrappers, its pages crisp and new.\n",
            "\n",
            "Initially, she’d dismissed it as coincidence. But today, faced with a looming art project requiring rare, iridescent peacock feathers, the skepticism began to crumble.  She scrawled “Five iridescent peacock feathers” on another scrap of paper and shoved it in.  She waited, heart hammering.  \n",
            "\n",
            "A soft *poof* emanated from the backpack.  Elara cautiously unzipped it.  Nestled amongst her sketchbook and pencils were five perfect, shimmering peacock feathers, their colours breathtakingly vivid.  \n",
            "\n",
            "The magic was real.\n",
            "\n",
            "News of the magical backpack spread like wildfire through Elara's small town.  Requests poured in: a lost kitten (returned purring contentedly), a rare stamp for a collector’s album (perfectly preserved), even a bouquet of moonflowers for a heartbroken friend (bloomed in the dead of winter).\n",
            "\n",
            "Elara, initially hesitant, found herself becoming the town’s unlikely benefactor.  The backpack’s magic, however, wasn't without its quirks.  It seemed to respond to intent, not just to written requests.  A hastily scribbled wish for a “million dollars” yielded a single, shiny dollar coin.  A heartfelt request for \"a way to help my neighbour, Mrs. Gable, with her garden\" resulted in a miniature, impossibly efficient gardening robot.\n",
            "\n",
            "But the more she used the backpack, the more Elara realised the magic wasn’t limitless. It required something in return – not money or objects, but acts of kindness, generosity, and empathy. A neglected request, a selfish wish, resulted in nothing, or worse, something entirely unwanted – a swarm of particularly aggressive ladybugs, for instance, after a poorly worded wish for \"pest control.\"\n",
            "\n",
            "One day, a travelling circus arrived in town, its star performer, a magnificent, ageing elephant named Raja, visibly ailing. The vet was stumped.  Elara knew what she had to do.  Instead of writing a request, she whispered into the backpack, “Help Raja get better. I’ll help you too.”\n",
            "\n",
            "That night, as Elara helped Mrs. Gable harvest her bumper crop of tomatoes (a consequence of her earlier wish), she felt a surge of warmth.  The next morning, Raja was well again, his spirit restored.  And the backpack, worn but gleaming, felt lighter, somehow more alive.\n",
            "\n",
            "Elara understood then. The magic wasn't about getting what she wanted; it was about giving what she could. The backpack, a conduit of magical generosity, was teaching her the most powerful magic of all: the magic of kindness.  And she knew, with a certainty that warmed her from the inside out, that the magic would continue as long as she did.\n",
            "\n"
          ]
        }
      ]
    },
    {
      "cell_type": "markdown",
      "source": [
        "#翻譯機器人\n",
        "太好了成功了!但是這樣我們跟機器人還沒開始互動，他只是單方面給我們故事而已，所以我們來做第二個測試，做出一個可以跟我們互動的翻譯機器人吧!"
      ],
      "metadata": {
        "id": "kWtHx6L8SqRI"
      }
    },
    {
      "cell_type": "code",
      "source": [
        "def translate_text(text, target_language):\n",
        "    prompt = f\"Translate the following text to {target_language}: {text}\"\n",
        "    response = model.generate_content(prompt)\n",
        "    return response.text"
      ],
      "metadata": {
        "id": "pGWIk_Ng7E1g"
      },
      "execution_count": null,
      "outputs": []
    },
    {
      "cell_type": "code",
      "source": [
        "#開始來做自己的機器人!\n",
        "\n",
        "def chat_bot():\n",
        "    print(\"歡迎使用翻譯機器人\")\n",
        "    print(\"輸入'exit'來退出，'change'來更改目標語言\")\n",
        "\n",
        "    target_language = input(\"輸入你想要翻譯成什麼語言 (e.g., French, Spanish, Chinese): \").strip()\n",
        "\n",
        "    while True:\n",
        "        user_input = input(\"輸入你要翻譯的文字: \")\n",
        "\n",
        "        if user_input.lower() == \"exit\":\n",
        "            print(\"再見！感謝使用翻譯機器人。\")\n",
        "            break\n",
        "        elif user_input.lower() == \"change\":\n",
        "            target_language = input(\"輸入你想要翻譯成什麼語言 (e.g., French, Spanish, Chinese): \").strip()\n",
        "\n",
        "            continue\n",
        "\n",
        "\n",
        "        # 執行翻譯\n",
        "        translation = translate_text(user_input, target_language)\n",
        "        print(f\"翻譯成 {target_language} 的結果: {translation}\")"
      ],
      "metadata": {
        "id": "sPMk9mkT6--P"
      },
      "execution_count": null,
      "outputs": []
    },
    {
      "cell_type": "code",
      "source": [
        "#呼叫機器人!\n",
        "chat_bot()"
      ],
      "metadata": {
        "colab": {
          "base_uri": "https://localhost:8080/",
          "height": 263
        },
        "id": "PKMUacAi7JEU",
        "outputId": "cc4e215b-3212-49f0-8700-a1561134c2c1"
      },
      "execution_count": null,
      "outputs": [
        {
          "output_type": "stream",
          "name": "stdout",
          "text": [
            "歡迎使用翻譯機器人\n",
            "輸入'exit'來退出，'change'來更改目標語言\n",
            "輸入你想要翻譯成什麼語言 (e.g., French, Spanish, Chinese): 中文\n",
            "輸入你要翻譯的文字: Elara clutched the worn leather straps of her backpack, its brass buckles glinting in the afternoon sun.\n",
            "翻譯成 中文 的結果: 埃拉拉紧了她背包磨损的皮革肩带，黄铜搭扣在午后的阳光下闪闪发光。 (Ēlā lǎjǐn le tā bēibāo mòsuǐn de pígé jiāndài, huángtóng dā kòu zài wǔhòu de yángguāng xià shǎnshǎn fāguāng.)\n",
            "\n",
            "輸入你要翻譯的文字: change\n",
            "輸入你想要翻譯成什麼語言 (e.g., French, Spanish, Chinese): english\n",
            "輸入你要翻譯的文字: 我喜歡寫程式\n",
            "翻譯成 english 的結果: I like programming.\n",
            "\n",
            "輸入你要翻譯的文字: exit\n",
            "再見！感謝使用翻譯機器人。\n"
          ]
        }
      ]
    },
    {
      "cell_type": "markdown",
      "source": [
        "# 我可以做其他的機器人嗎?\n",
        "我們先來用輔導老師機器人試試看吧!這樣即便心情很不好也會有人陪我們聊天"
      ],
      "metadata": {
        "id": "yFzOt5YUDufk"
      }
    },
    {
      "cell_type": "code",
      "source": [
        "\n",
        "\n",
        "# 輔導老師聊天機器人\n",
        "def counseling_chatbot():\n",
        "    if model is None:\n",
        "        print(\"無法啟動聊天機器人，因為模型尚未初始化。請檢查 API 金鑰或模型設定。\")\n",
        "        return\n",
        "\n",
        "    print(\"歡迎來到輔導老師聊天機器人！\")\n",
        "    print(\"輸入'exit'結束對話，或輸入'change'設定新的場景\")\n",
        "\n",
        "    # 設定初始場景\n",
        "    current_scene = \"你是一位親切且專業的輔導老師，接著學生會問你一些難過的問題，請用一句話來與學生慢慢溝通\"\n",
        "\n",
        "    while True:\n",
        "        user_input = input(\"學生: \").strip()\n",
        "\n",
        "        if user_input.lower() == \"exit\":\n",
        "            print(\"輔導老師: 很高興能幫助到你，希望一切順利！再見！\")\n",
        "            break\n",
        "        elif user_input.lower() == \"change\":\n",
        "            current_scene = \"你是一位親切且專業的輔導老師，接著學生會問你一些難過的問題，請用一句話來與學生慢慢溝通\"\n",
        "            print(\"場景已更新！你可以開始輸入問題了。\")\n",
        "            continue\n",
        "\n",
        "            continue\n",
        "\n",
        "        # 設定 prompt，結合場景與用戶輸入\n",
        "        prompt = f\"{current_scene} 學生說: {user_input} 輔導老師應如何回應？\"\n",
        "\n",
        "        # 使用生成模型\n",
        "        try:\n",
        "            response = model.generate_content(prompt)\n",
        "            print(f\"輔導老師: {response.text}\")\n",
        "        except Exception as e:\n",
        "            print(f\"抱歉，目前無法生成回應。錯誤: {e}\")\n",
        "\n",
        "# 啟動聊天機器人\n",
        "counseling_chatbot()"
      ],
      "metadata": {
        "colab": {
          "base_uri": "https://localhost:8080/",
          "height": 277
        },
        "id": "2zQyIYUrDz-g",
        "outputId": "b32ef91a-adfa-427a-d6dd-a98d178fbdf1"
      },
      "execution_count": null,
      "outputs": [
        {
          "output_type": "stream",
          "name": "stdout",
          "text": [
            "歡迎來到輔導老師聊天機器人！\n",
            "輸入'exit'結束對話，或輸入'change'設定新的場景\n",
            "學生: 老師我好難過\n",
            "輔導老師: 嗯，聽起來你現在需要一些空間和時間來處理這些感受，我們慢慢聊聊好嗎？\n",
            "\n",
            "學生: 我成績不好，數學不及格\n",
            "輔導老師: 我們一起找出讓數學變得更容易理解的方法，好嗎？\n",
            "\n",
            "學生: change\n",
            "場景已更新！你可以開始輸入問題了。\n",
            "學生: 老師我跟朋友吵架\n",
            "輔導老師: 嗯，能跟我說說發生了什麼事嗎？\n",
            "\n",
            "學生: exit\n",
            "輔導老師: 很高興能幫助到你，希望一切順利！再見！\n"
          ]
        }
      ]
    }
  ]
}